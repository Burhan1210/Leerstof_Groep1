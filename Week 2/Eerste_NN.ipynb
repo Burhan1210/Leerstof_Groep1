{
 "cells": [
  {
   "cell_type": "markdown",
   "id": "c82bef3d-5a9a-4627-ba46-35fbd0515457",
   "metadata": {},
   "source": [
    "# Een eerste neuraal netwerk\n",
    "\n",
    "In deze notebook wordt getoond hoe een neuraal netwerk opgebouwd kan worden met Pytorch.\n",
    "Hierbij wordt er dieper ingegaan op de keuzes van hyperparameters.\n",
    "\n",
    "In de eerste codecell importeren we de nodige functionaliteiten van pytorch. \n",
    "Daarna maken we ook een aantal variabelen aan die we gaan gebruiken voor het aanmaken van het netwerk.\n",
    "De betekenis van deze parameters is:\n",
    "* input_size: aantal features in de dataset\n",
    "* hidden_size: aantal neuronen in de enkele hidden laag\n",
    "* output_size: aantal neuronen in de outputlaag\n",
    "* learning_rate: de learning rate van de optimizer\n",
    "* epochs: aantal keer dat de volledige dataset gebruikt wordt voor training\n",
    "* batch_size: hoeveel inputs er gegroepeerd worden voordat de gewichten geoptimaliseerd worden\n",
    "* dropout_rate: het aantal connecties dat op een willekeurige manier zal wegvallen\n",
    "\n",
    "Voor de input_size heb je meestal geen keuze. Deze wordt bepaald door de gegeven dataset. Elke feature van de input wordt namelijk gematchet op een neuron in de inputlayer.\n",
    "Ook de output_size wordt bepaald door het probleem. Dit is de gewenste output dus:\n",
    "* Bij een regressieprobleem is er 1 neuron per ter voorspellen waarde\n",
    "* Bij classificatie is er 1 neuron per klasse\n",
    "    * In het geval van 2 klassen kan je gebruik maken van 1 klasse"
   ]
  },
  {
   "cell_type": "code",
   "execution_count": 1,
   "id": "c3da142a-42e9-4ab6-8fbf-05abfd0c9aea",
   "metadata": {},
   "outputs": [],
   "source": [
    "import torch\n",
    "import torch.nn as nn\n",
    "import torch.optim as optim\n",
    "import torch.nn.functional as F\n",
    "from torch.utils.data import DataLoader, TensorDataset\n",
    "from sklearn.model_selection import train_test_split\n",
    "from sklearn.datasets import make_classification\n",
    "import matplotlib.pyplot as plt\n",
    "\n",
    "# Configuratie\n",
    "input_size = 20       # Aantal ingangsfeatures\n",
    "hidden_size = 64      # Grootte van de verborgen lagen\n",
    "output_size = 2       # Aantal klassen (voor classificatie)\n",
    "learning_rate = 0.001 # Learning rate\n",
    "epochs = 50           # Aantal epochs\n",
    "batch_size = 32       # Batch grootte\n",
    "dropout_rate = 0.5    # Dropout rate voor regularisatie"
   ]
  },
  {
   "cell_type": "markdown",
   "id": "8309009b-ebd9-47a8-a770-fe093117ac40",
   "metadata": {},
   "source": [
    "Na het bepalen van de configuratie kan de dataset gemaakt worden. Dit gebeurd met de make_classification functie van scikit-learn om met random data te werken.\n",
    "In dit voorbeeld is er gekozen voor een classificatieprobleem met 2 klassen.\n",
    "\n",
    "Deze dataset wordt daarna gesplits in features en labels, en gepslitst in trainings- en testdata.\n",
    "In pytorch ziet dit eruit als volgt"
   ]
  },
  {
   "cell_type": "code",
   "execution_count": 14,
   "id": "173753c0-6a6a-4945-96b3-b46810226889",
   "metadata": {},
   "outputs": [],
   "source": [
    "# Dataset maken\n",
    "X, y = make_classification(n_samples=1000, n_features=input_size, n_classes=output_size, random_state=42)\n",
    "X_train, X_test, y_train, y_test = train_test_split(X, y, test_size=0.2, random_state=42)\n",
    "\n",
    "# DataLoader maken\n",
    "train_dataset = TensorDataset(torch.tensor(X_train, dtype=torch.float32), torch.tensor(y_train, dtype=torch.long))\n",
    "test_dataset = TensorDataset(torch.tensor(X_test, dtype=torch.float32), torch.tensor(y_test, dtype=torch.long))\n",
    "train_loader = DataLoader(train_dataset, batch_size=batch_size, shuffle=True)\n",
    "test_loader = DataLoader(test_dataset, batch_size=batch_size, shuffle=False)"
   ]
  },
  {
   "cell_type": "markdown",
   "id": "2fc4489c-dfd2-4646-8ff1-b9bf4ab0c79d",
   "metadata": {},
   "source": [
    "Indien er niet gebruik gemaakt wordt van pytorch maar van tensorflow, dan bekom je de volgende code"
   ]
  },
  {
   "cell_type": "code",
   "execution_count": 15,
   "id": "70b64262-4e79-4c28-808f-69384f80bc74",
   "metadata": {},
   "outputs": [],
   "source": [
    "import tensorflow as tf\n",
    "\n",
    "# DataLoader maken\n",
    "train_dataset = tf.data.Dataset.from_tensor_slices((X_train, y_train)).shuffle(buffer_size=len(X_train)).batch(batch_size)\n",
    "test_dataset = tf.data.Dataset.from_tensor_slices((X_test, y_test)).batch(batch_size)"
   ]
  },
  {
   "cell_type": "markdown",
   "id": "070760c9-cf91-47d7-8388-6bb9d2bec67a",
   "metadata": {},
   "source": [
    "## Klasieke techniek om NN op te stellen met pytorch\n",
    "Hierna kan het neuraal netwerk aangemaakt worden.\n",
    "Eerst gaan we werken met de klassieke en meest manuele manier.\n",
    "Dit gaat misschien niet de meest beknopte manier zijn maar geeft je wel de meeste mogelijkheden om het model en trainingsproces aan te passen aan je noden.\n",
    "\n",
    "De klassieke techniek met pytorch is om een klasse te maken die overerft van de Module-klasse.\n",
    "In deze klasse moet je de volgende zaken aanpassen:\n",
    "\n",
    "* In de constructor van deze klasse maak je de nodige lagen aan van het neuraal netwerk.\n",
    "* In de forward functie van de klasse geef je dan hoe deze lagen aan elkaar gekoppeld worden.\n",
    "\n",
    "In onderstaande voorbeeld worden vier eenvoudige lagen aangemaakt (1 voor de inputs, 2 voor de hiden layers en 1 voor de output layer). De activatiefunctie wordt toegevoegd in de forward functie. In het model hieronder is er gekozen om te werken met een Relu-functie na de input en hidden layer. De output layer bevat een standaard lienaire functie. Dit omdat pytorch beschikt over een speciale loss-functie om een sigmoid/softmax in de output layer overbodig te maken wat efficienter is."
   ]
  },
  {
   "cell_type": "code",
   "execution_count": 16,
   "id": "b767174a-980a-4473-ba01-7e7f8bcc8d36",
   "metadata": {},
   "outputs": [],
   "source": [
    "# Neuraal Netwerk Model\n",
    "class NeuralNet(nn.Module):\n",
    "    def __init__(self, input_size, hidden_size, output_size, dropout_rate):\n",
    "        super(NeuralNet, self).__init__()\n",
    "        self.fc1 = nn.Linear(input_size, hidden_size)\n",
    "        self.fc2 = nn.Linear(hidden_size, hidden_size)\n",
    "        self.fc3 = nn.Linear(hidden_size, output_size)\n",
    "        self.dropout = nn.Dropout(dropout_rate)\n",
    "    \n",
    "    def forward(self, x):\n",
    "        x = F.relu(self.fc1(x))\n",
    "        x = self.dropout(x)\n",
    "        x = F.relu(self.fc2(x))\n",
    "        x = self.dropout(x)\n",
    "        x = self.fc3(x) # bij pytorch met cross entropy moet hier geen softmax activatiefunctie staan\n",
    "        return x\n",
    "        \n",
    "# Model, verliesfunctie en optimizer\n",
    "model = NeuralNet(input_size, hidden_size, output_size, dropout_rate)"
   ]
  },
  {
   "cell_type": "markdown",
   "id": "e928c7c0-eb19-4d86-a8d9-253b4cd66933",
   "metadata": {},
   "source": [
    "Om dit model te trainen moet er eerst bepaald worden wat er moet geoptimaliseerd worden.\n",
    "Dit is **de loss-functie** die moet geminimaliseerd worden.\n",
    "Dit wordt ook bepaald door het op te lossen probleem, namelijk:\n",
    "\n",
    "* Bij regressie wordt er typisch gekozen voor Mean-Squared-Error (noemt in pytorch MSELoss) of Mean-Squared-Error\n",
    "* Bij classificatie wordt er gekozen voor\n",
    "    * BCEWithLogitsLoss bij binaire classificatie (BCE staat voor Binary Cross Entropy )\n",
    "        * Hierbij moet geen sigmoid activatiefunctie gebruikt worden want dit is reeds ingebouwd in de loss-functie\n",
    "        * Indien er toch een sigmoid-functie gebruikt wordt in de output-layer: BCELoss\n",
    "    * CrossEntropy in het geval van multi-class classification (meerdere opties maar slechts 1 klasse te kiezen)\n",
    "    * BCEWithLogitsLoss bij multilabel classificatie\n",
    "        *  Aangezien elk outputneuron een binaire classificatie is\n",
    "     \n",
    "Daarna wordt de training uitgevoerd door het aantal epoch keer de dataset te gebruiken om de gewichten te optimaliseren.\n",
    "Hiervoor moet er per epoch het volgende uitgevoerd worden:\n",
    "* Zet het model in een trainingsmodus\n",
    "* Geef de data aan het model en doe per batch\n",
    "    * Bereken de outputs\n",
    "    * Bereken de error tussen de outputs en gewenste labels\n",
    "    * Voer backwards propagation uit om gewichten up te daten\n",
    "* Zet het model in een evaluatie modus\n",
    "* Bereken de totale loss op de test-date\n",
    "    *  Dit wordt gebruikt om de prestaties van het model op te volgen en kan gebruikt worden om het trainen eerder te stoppen indien er overfitting gedetecteerd wordt."
   ]
  },
  {
   "cell_type": "code",
   "execution_count": 17,
   "id": "d3b3729e-39c3-49ad-97df-3473192454de",
   "metadata": {},
   "outputs": [
    {
     "name": "stdout",
     "output_type": "stream",
     "text": [
      "Epoch 1/50, Train Loss: 0.6629, Test Loss: 0.6128\n",
      "Epoch 2/50, Train Loss: 0.5557, Test Loss: 0.5145\n",
      "Epoch 3/50, Train Loss: 0.4581, Test Loss: 0.4045\n",
      "Epoch 4/50, Train Loss: 0.3906, Test Loss: 0.3536\n",
      "Epoch 5/50, Train Loss: 0.3966, Test Loss: 0.3454\n",
      "Epoch 6/50, Train Loss: 0.3472, Test Loss: 0.3341\n",
      "Epoch 7/50, Train Loss: 0.3685, Test Loss: 0.3321\n",
      "Epoch 8/50, Train Loss: 0.3409, Test Loss: 0.3339\n",
      "Epoch 9/50, Train Loss: 0.3373, Test Loss: 0.3267\n",
      "Epoch 10/50, Train Loss: 0.3232, Test Loss: 0.3259\n",
      "Epoch 11/50, Train Loss: 0.3234, Test Loss: 0.3315\n",
      "Epoch 12/50, Train Loss: 0.3185, Test Loss: 0.3295\n",
      "Epoch 13/50, Train Loss: 0.3121, Test Loss: 0.3305\n",
      "Epoch 14/50, Train Loss: 0.3091, Test Loss: 0.3368\n",
      "Epoch 15/50, Train Loss: 0.2994, Test Loss: 0.3351\n",
      "Epoch 16/50, Train Loss: 0.2936, Test Loss: 0.3393\n",
      "Epoch 17/50, Train Loss: 0.3119, Test Loss: 0.3374\n",
      "Epoch 18/50, Train Loss: 0.2869, Test Loss: 0.3404\n",
      "Epoch 19/50, Train Loss: 0.3021, Test Loss: 0.3400\n",
      "Epoch 20/50, Train Loss: 0.2915, Test Loss: 0.3408\n",
      "Epoch 21/50, Train Loss: 0.2955, Test Loss: 0.3426\n",
      "Epoch 22/50, Train Loss: 0.2636, Test Loss: 0.3461\n",
      "Epoch 23/50, Train Loss: 0.2840, Test Loss: 0.3437\n",
      "Epoch 24/50, Train Loss: 0.2906, Test Loss: 0.3427\n",
      "Epoch 25/50, Train Loss: 0.2667, Test Loss: 0.3499\n",
      "Epoch 26/50, Train Loss: 0.2768, Test Loss: 0.3533\n",
      "Epoch 27/50, Train Loss: 0.2687, Test Loss: 0.3515\n",
      "Epoch 28/50, Train Loss: 0.2759, Test Loss: 0.3573\n",
      "Epoch 29/50, Train Loss: 0.2661, Test Loss: 0.3494\n",
      "Epoch 30/50, Train Loss: 0.2787, Test Loss: 0.3418\n",
      "Epoch 31/50, Train Loss: 0.2841, Test Loss: 0.3490\n",
      "Epoch 32/50, Train Loss: 0.2775, Test Loss: 0.3493\n",
      "Epoch 33/50, Train Loss: 0.2689, Test Loss: 0.3483\n",
      "Epoch 34/50, Train Loss: 0.2617, Test Loss: 0.3521\n",
      "Epoch 35/50, Train Loss: 0.2555, Test Loss: 0.3547\n",
      "Epoch 36/50, Train Loss: 0.2565, Test Loss: 0.3574\n",
      "Epoch 37/50, Train Loss: 0.2534, Test Loss: 0.3575\n",
      "Epoch 38/50, Train Loss: 0.2699, Test Loss: 0.3582\n",
      "Epoch 39/50, Train Loss: 0.2590, Test Loss: 0.3513\n",
      "Epoch 40/50, Train Loss: 0.2566, Test Loss: 0.3497\n",
      "Epoch 41/50, Train Loss: 0.2613, Test Loss: 0.3502\n",
      "Epoch 42/50, Train Loss: 0.2449, Test Loss: 0.3611\n",
      "Epoch 43/50, Train Loss: 0.2402, Test Loss: 0.3549\n",
      "Epoch 44/50, Train Loss: 0.2294, Test Loss: 0.3600\n",
      "Epoch 45/50, Train Loss: 0.2425, Test Loss: 0.3538\n",
      "Epoch 46/50, Train Loss: 0.2602, Test Loss: 0.3583\n",
      "Epoch 47/50, Train Loss: 0.2252, Test Loss: 0.3654\n",
      "Epoch 48/50, Train Loss: 0.2395, Test Loss: 0.3580\n",
      "Epoch 49/50, Train Loss: 0.2295, Test Loss: 0.3663\n",
      "Epoch 50/50, Train Loss: 0.2394, Test Loss: 0.3643\n"
     ]
    }
   ],
   "source": [
    "criterion = nn.CrossEntropyLoss()\n",
    "optimizer = optim.Adam(model.parameters(), lr=learning_rate)\n",
    "\n",
    "# Training loop\n",
    "train_losses = []\n",
    "test_losses = []\n",
    "\n",
    "# loop een aantal keer over de dataset\n",
    "for epoch in range(50):\n",
    "    model.train()\n",
    "    running_loss = 0.0\n",
    "    # ga door de hele train data\n",
    "    for inputs, labels in train_loader:\n",
    "        optimizer.zero_grad()\n",
    "        # bereken de output met het huidige netwerk\n",
    "        outputs = model(inputs)\n",
    "        # bereken de error\n",
    "        loss = criterion(outputs, labels)\n",
    "        # pas de gewichten aan volgens de fout\n",
    "        loss.backward()\n",
    "        # pas de learning rate aan\n",
    "        optimizer.step()\n",
    "        running_loss += loss.item()\n",
    "    \n",
    "    train_losses.append(running_loss / len(train_loader))\n",
    "\n",
    "    # gaan testen -> belangrijkste verschil is dat je hier no_grad gebruikt en geen loss.backward()\n",
    "    model.eval()\n",
    "    test_loss = 0.0\n",
    "    with torch.no_grad():\n",
    "        for inputs, labels in test_loader:\n",
    "            outputs = model(inputs)\n",
    "            loss = criterion(outputs, labels)\n",
    "            test_loss += loss.item()\n",
    "    \n",
    "    test_losses.append(test_loss / len(test_loader))\n",
    "    print(f'Epoch {epoch+1}/{epochs}, Train Loss: {train_losses[-1]:.4f}, Test Loss: {test_losses[-1]:.4f}')"
   ]
  },
  {
   "cell_type": "markdown",
   "id": "f2b1e94d-dd6b-4ea9-8007-0b193deb0428",
   "metadata": {},
   "source": [
    "De resultaten van het trainingsproces kunnen geplot worden met onderstaande code\n",
    "De x-as stelt de prestaties van het model voor doorheen het trainingsproces.\n",
    "Het resulteren model heeft dus de prestaties in de laatste epoch.\n",
    "Deze figuur kan gebruikt worden om\n",
    "* De stabiliteit van het model te valideren\n",
    "    * Een onstabiel model (met veel variatie in de output zal niet goed generaliseren)\n",
    "* Het aantal gekozen epochs/learning rate te valideren\n",
    "    * Als de loss-functie nog snel daalt moet het aantal epochs of de learning rate verhoogd worden\n",
    "* Underfitting detecteren\n",
    "    * Als de error nog te hoog is voor je doelstelling is ofwel het model niet complex genoeg of de data niet goed genoeg \n",
    "* Overfitting detecteren\n",
    "    * Als er een punt is waarop de test-loss (error op de testdata) terug toeneemt en de train-loss verder daalt. Dan treedt er vanaf die epoch overfitting op\n",
    "    * Dit kan vermeden worden door meer regularisatie toe te voegen of de complexiteit van het model te verlagen\n",
    "    * Het aantal epochs reduceren tot dit punt is niet goed want dan verlaag je de prestaties van je model."
   ]
  },
  {
   "cell_type": "code",
   "execution_count": 22,
   "id": "837f28b1-2bd9-43d9-ac02-c639fd78784d",
   "metadata": {},
   "outputs": [
    {
     "data": {
      "image/png": "[encoded data removed]",
      "text/plain": [
       "<Figure size 1000x500 with 1 Axes>"
      ]
     },
     "metadata": {},
     "output_type": "display_data"
    },
    {
     "name": "stdout",
     "output_type": "stream",
     "text": [
      "Accuracy of the model on the test set: 85.50%\n"
     ]
    }
   ],
   "source": [
    "# Resultaten plotten\n",
    "plt.figure(figsize=(10,5))\n",
    "subset = 12\n",
    "plt.plot(range(1, subset+1), train_losses[:subset], label='Train Loss')\n",
    "plt.plot(range(1, subset+1), test_losses[:subset], label='Test Loss')\n",
    "plt.xlabel('Epochs')\n",
    "plt.ylabel('Loss')\n",
    "plt.legend()\n",
    "plt.show()\n",
    "\n",
    "# Model evaluatie\n",
    "model.eval()\n",
    "correct = 0\n",
    "total = 0\n",
    "with torch.no_grad():\n",
    "    for inputs, labels in test_loader:\n",
    "        outputs = model(inputs)\n",
    "        _, predicted = torch.max(outputs.data, 1)\n",
    "        total += labels.size(0)\n",
    "        correct += (predicted == labels).sum().item()\n",
    "\n",
    "print(f'Accuracy of the model on the test set: {100 * correct / total:.2f}%')\n",
    "\n",
    "# hier treed overfitting op\n",
    "# oplossen: meer dropout (is hier reeds aanwezig), early stopping, eenvoudig model (minder neuronen/minder lagen)"
   ]
  },
  {
   "cell_type": "markdown",
   "id": "2e1ac013-d0d1-4e99-8348-a38b359edd1e",
   "metadata": {},
   "source": [
    "## Kortere maar minder flexibele schrijfwijze\n",
    "\n",
    "Aangezien bovenstaande model een standaard structuur heeft kan het ook herschreven worden als een functioneel model.\n",
    "In dit geval ziet de code eruit als volgt"
   ]
  },
  {
   "cell_type": "code",
   "execution_count": 8,
   "id": "294dfbae-9750-434a-bea4-81700746a25a",
   "metadata": {},
   "outputs": [],
   "source": [
    "# Model opbouwen met nn.Sequential\n",
    "model = nn.Sequential(\n",
    "    nn.Linear(input_size, hidden_size),\n",
    "    nn.ReLU(),\n",
    "    nn.Dropout(dropout_rate),\n",
    "    nn.Linear(hidden_size, hidden_size),\n",
    "    nn.ReLU(),\n",
    "    nn.Dropout(dropout_rate),\n",
    "    nn.Linear(hidden_size, output_size)\n",
    ")"
   ]
  },
  {
   "cell_type": "markdown",
   "id": "9fe6ce99-b5fe-49ea-b89b-956eb2b3dfae",
   "metadata": {},
   "source": [
    "Hierbij is de opbouw van het model vereenvoudigd maar de traningslus moet nog steeds voluit geschreven worden."
   ]
  },
  {
   "cell_type": "markdown",
   "id": "42364728-03ac-4b14-9aa6-a6478c4121b4",
   "metadata": {},
   "source": [
    "## Model opbouwen met trainen\n",
    "\n",
    "Een derde manier om de code te schrijven is door middel van **Keras**. \n",
    "Deze manier van code schrijven is identiek aan hoe het eruitziet inden er gebruik gemaakt wordt van **Tensorflow**.\n",
    "Met keras kan zowel de opbouw van het model als de trainingslus sterk vereenvoudigd worden.\n",
    "\n",
    "Merk op dat hieronder **wel een softmax nodig is** omdat de standaard crossentropy functies van keras/tensorflow dit vereisen. \n",
    "Daarnaast is het ook interessant dat Keras een summary kan uitprinten van een model om een overzicht te krijgen van de architectuur en het aantal parameters dat in elke laag moet getrained worden."
   ]
  },
  {
   "cell_type": "code",
   "execution_count": 9,
   "id": "9b1a1869-51a1-4de6-85bc-9d57257a14e4",
   "metadata": {},
   "outputs": [
    {
     "name": "stderr",
     "output_type": "stream",
     "text": [
      "2024-10-01 07:32:23.652711: I tensorflow/core/util/port.cc:153] oneDNN custom operations are on. You may see slightly different numerical results due to floating-point round-off errors from different computation orders. To turn them off, set the environment variable `TF_ENABLE_ONEDNN_OPTS=0`.\n",
      "2024-10-01 07:32:24.025851: E external/local_xla/xla/stream_executor/cuda/cuda_fft.cc:485] Unable to register cuFFT factory: Attempting to register factory for plugin cuFFT when one has already been registered\n",
      "2024-10-01 07:32:24.158769: E external/local_xla/xla/stream_executor/cuda/cuda_dnn.cc:8454] Unable to register cuDNN factory: Attempting to register factory for plugin cuDNN when one has already been registered\n",
      "2024-10-01 07:32:24.202866: E external/local_xla/xla/stream_executor/cuda/cuda_blas.cc:1452] Unable to register cuBLAS factory: Attempting to register factory for plugin cuBLAS when one has already been registered\n",
      "2024-10-01 07:32:24.452883: I tensorflow/core/platform/cpu_feature_guard.cc:210] This TensorFlow binary is optimized to use available CPU instructions in performance-critical operations.\n",
      "To enable the following instructions: AVX2 AVX512F AVX512_VNNI FMA, in other operations, rebuild TensorFlow with the appropriate compiler flags.\n",
      "2024-10-01 07:32:25.903513: W tensorflow/compiler/tf2tensorrt/utils/py_utils.cc:38] TF-TRT Warning: Could not find TensorRT\n",
      "/opt/conda/lib/python3.10/site-packages/keras/src/layers/core/dense.py:87: UserWarning: Do not pass an `input_shape`/`input_dim` argument to a layer. When using Sequential models, prefer using an `Input(shape)` object as the first layer in the model instead.\n",
      "  super().__init__(activity_regularizer=activity_regularizer, **kwargs)\n",
      "WARNING: All log messages before absl::InitializeLog() is called are written to STDERR\n",
      "I0000 00:00:1727767947.292275     106 cuda_executor.cc:1001] could not open file to read NUMA node: /sys/bus/pci/devices/0000:01:00.0/numa_node\n",
      "Your kernel may have been built without NUMA support.\n",
      "2024-10-01 07:32:27.293350: W tensorflow/core/common_runtime/gpu/gpu_device.cc:2343] Cannot dlopen some GPU libraries. Please make sure the missing libraries mentioned above are installed properly if you would like to use GPU. Follow the guide at https://www.tensorflow.org/install/gpu for how to download and setup the required libraries for your platform.\n",
      "Skipping registering GPU devices...\n"
     ]
    },
    {
     "data": {
      "text/html": [
       "<pre style=\"white-space:pre;overflow-x:auto;line-height:normal;font-family:Menlo,'DejaVu Sans Mono',consolas,'Courier New',monospace\"><span style=\"font-weight: bold\">Model: \"sequential\"</span>\n",
       "</pre>\n"
      ],
      "text/plain": [
       "\u001b[1mModel: \"sequential\"\u001b[0m\n"
      ]
     },
     "metadata": {},
     "output_type": "display_data"
    },
    {
     "data": {
      "text/html": [
       "<pre style=\"white-space:pre;overflow-x:auto;line-height:normal;font-family:Menlo,'DejaVu Sans Mono',consolas,'Courier New',monospace\">┏━━━━━━━━━━━━━━━━━━━━━━━━━━━━━━━━━┳━━━━━━━━━━━━━━━━━━━━━━━━┳━━━━━━━━━━━━━━━┓\n",
       "┃<span style=\"font-weight: bold\"> Layer (type)                    </span>┃<span style=\"font-weight: bold\"> Output Shape           </span>┃<span style=\"font-weight: bold\">       Param # </span>┃\n",
       "┡━━━━━━━━━━━━━━━━━━━━━━━━━━━━━━━━━╇━━━━━━━━━━━━━━━━━━━━━━━━╇━━━━━━━━━━━━━━━┩\n",
       "│ dense (<span style=\"color: #0087ff; text-decoration-color: #0087ff\">Dense</span>)                   │ (<span style=\"color: #00d7ff; text-decoration-color: #00d7ff\">None</span>, <span style=\"color: #00af00; text-decoration-color: #00af00\">64</span>)             │         <span style=\"color: #00af00; text-decoration-color: #00af00\">1,344</span> │\n",
       "├─────────────────────────────────┼────────────────────────┼───────────────┤\n",
       "│ dropout (<span style=\"color: #0087ff; text-decoration-color: #0087ff\">Dropout</span>)               │ (<span style=\"color: #00d7ff; text-decoration-color: #00d7ff\">None</span>, <span style=\"color: #00af00; text-decoration-color: #00af00\">64</span>)             │             <span style=\"color: #00af00; text-decoration-color: #00af00\">0</span> │\n",
       "├─────────────────────────────────┼────────────────────────┼───────────────┤\n",
       "│ dense_1 (<span style=\"color: #0087ff; text-decoration-color: #0087ff\">Dense</span>)                 │ (<span style=\"color: #00d7ff; text-decoration-color: #00d7ff\">None</span>, <span style=\"color: #00af00; text-decoration-color: #00af00\">64</span>)             │         <span style=\"color: #00af00; text-decoration-color: #00af00\">4,160</span> │\n",
       "├─────────────────────────────────┼────────────────────────┼───────────────┤\n",
       "│ dropout_1 (<span style=\"color: #0087ff; text-decoration-color: #0087ff\">Dropout</span>)             │ (<span style=\"color: #00d7ff; text-decoration-color: #00d7ff\">None</span>, <span style=\"color: #00af00; text-decoration-color: #00af00\">64</span>)             │             <span style=\"color: #00af00; text-decoration-color: #00af00\">0</span> │\n",
       "├─────────────────────────────────┼────────────────────────┼───────────────┤\n",
       "│ dense_2 (<span style=\"color: #0087ff; text-decoration-color: #0087ff\">Dense</span>)                 │ (<span style=\"color: #00d7ff; text-decoration-color: #00d7ff\">None</span>, <span style=\"color: #00af00; text-decoration-color: #00af00\">2</span>)              │           <span style=\"color: #00af00; text-decoration-color: #00af00\">130</span> │\n",
       "└─────────────────────────────────┴────────────────────────┴───────────────┘\n",
       "</pre>\n"
      ],
      "text/plain": [
       "┏━━━━━━━━━━━━━━━━━━━━━━━━━━━━━━━━━┳━━━━━━━━━━━━━━━━━━━━━━━━┳━━━━━━━━━━━━━━━┓\n",
       "┃\u001b[1m \u001b[0m\u001b[1mLayer (type)                   \u001b[0m\u001b[1m \u001b[0m┃\u001b[1m \u001b[0m\u001b[1mOutput Shape          \u001b[0m\u001b[1m \u001b[0m┃\u001b[1m \u001b[0m\u001b[1m      Param #\u001b[0m\u001b[1m \u001b[0m┃\n",
       "┡━━━━━━━━━━━━━━━━━━━━━━━━━━━━━━━━━╇━━━━━━━━━━━━━━━━━━━━━━━━╇━━━━━━━━━━━━━━━┩\n",
       "│ dense (\u001b[38;5;33mDense\u001b[0m)                   │ (\u001b[38;5;45mNone\u001b[0m, \u001b[38;5;34m64\u001b[0m)             │         \u001b[38;5;34m1,344\u001b[0m │\n",
       "├─────────────────────────────────┼────────────────────────┼───────────────┤\n",
       "│ dropout (\u001b[38;5;33mDropout\u001b[0m)               │ (\u001b[38;5;45mNone\u001b[0m, \u001b[38;5;34m64\u001b[0m)             │             \u001b[38;5;34m0\u001b[0m │\n",
       "├─────────────────────────────────┼────────────────────────┼───────────────┤\n",
       "│ dense_1 (\u001b[38;5;33mDense\u001b[0m)                 │ (\u001b[38;5;45mNone\u001b[0m, \u001b[38;5;34m64\u001b[0m)             │         \u001b[38;5;34m4,160\u001b[0m │\n",
       "├─────────────────────────────────┼────────────────────────┼───────────────┤\n",
       "│ dropout_1 (\u001b[38;5;33mDropout\u001b[0m)             │ (\u001b[38;5;45mNone\u001b[0m, \u001b[38;5;34m64\u001b[0m)             │             \u001b[38;5;34m0\u001b[0m │\n",
       "├─────────────────────────────────┼────────────────────────┼───────────────┤\n",
       "│ dense_2 (\u001b[38;5;33mDense\u001b[0m)                 │ (\u001b[38;5;45mNone\u001b[0m, \u001b[38;5;34m2\u001b[0m)              │           \u001b[38;5;34m130\u001b[0m │\n",
       "└─────────────────────────────────┴────────────────────────┴───────────────┘\n"
      ]
     },
     "metadata": {},
     "output_type": "display_data"
    },
    {
     "data": {
      "text/html": [
       "<pre style=\"white-space:pre;overflow-x:auto;line-height:normal;font-family:Menlo,'DejaVu Sans Mono',consolas,'Courier New',monospace\"><span style=\"font-weight: bold\"> Total params: </span><span style=\"color: #00af00; text-decoration-color: #00af00\">5,634</span> (22.01 KB)\n",
       "</pre>\n"
      ],
      "text/plain": [
       "\u001b[1m Total params: \u001b[0m\u001b[38;5;34m5,634\u001b[0m (22.01 KB)\n"
      ]
     },
     "metadata": {},
     "output_type": "display_data"
    },
    {
     "data": {
      "text/html": [
       "<pre style=\"white-space:pre;overflow-x:auto;line-height:normal;font-family:Menlo,'DejaVu Sans Mono',consolas,'Courier New',monospace\"><span style=\"font-weight: bold\"> Trainable params: </span><span style=\"color: #00af00; text-decoration-color: #00af00\">5,634</span> (22.01 KB)\n",
       "</pre>\n"
      ],
      "text/plain": [
       "\u001b[1m Trainable params: \u001b[0m\u001b[38;5;34m5,634\u001b[0m (22.01 KB)\n"
      ]
     },
     "metadata": {},
     "output_type": "display_data"
    },
    {
     "data": {
      "text/html": [
       "<pre style=\"white-space:pre;overflow-x:auto;line-height:normal;font-family:Menlo,'DejaVu Sans Mono',consolas,'Courier New',monospace\"><span style=\"font-weight: bold\"> Non-trainable params: </span><span style=\"color: #00af00; text-decoration-color: #00af00\">0</span> (0.00 B)\n",
       "</pre>\n"
      ],
      "text/plain": [
       "\u001b[1m Non-trainable params: \u001b[0m\u001b[38;5;34m0\u001b[0m (0.00 B)\n"
      ]
     },
     "metadata": {},
     "output_type": "display_data"
    },
    {
     "name": "stdout",
     "output_type": "stream",
     "text": [
      "Epoch 1/50\n",
      "\u001b[1m25/25\u001b[0m \u001b[32m━━━━━━━━━━━━━━━━━━━━\u001b[0m\u001b[37m\u001b[0m \u001b[1m1s\u001b[0m 6ms/step - accuracy: 0.5638 - loss: 0.7854 - val_accuracy: 0.7950 - val_loss: 0.5508\n",
      "Epoch 2/50\n",
      "\u001b[1m25/25\u001b[0m \u001b[32m━━━━━━━━━━━━━━━━━━━━\u001b[0m\u001b[37m\u001b[0m \u001b[1m0s\u001b[0m 2ms/step - accuracy: 0.6218 - loss: 0.6652 - val_accuracy: 0.8400 - val_loss: 0.4858\n",
      "Epoch 3/50\n",
      "\u001b[1m25/25\u001b[0m \u001b[32m━━━━━━━━━━━━━━━━━━━━\u001b[0m\u001b[37m\u001b[0m \u001b[1m0s\u001b[0m 2ms/step - accuracy: 0.6757 - loss: 0.6001 - val_accuracy: 0.8600 - val_loss: 0.4438\n",
      "Epoch 4/50\n",
      "\u001b[1m25/25\u001b[0m \u001b[32m━━━━━━━━━━━━━━━━━━━━\u001b[0m\u001b[37m\u001b[0m \u001b[1m0s\u001b[0m 2ms/step - accuracy: 0.7338 - loss: 0.5225 - val_accuracy: 0.8700 - val_loss: 0.4147\n",
      "Epoch 5/50\n",
      "\u001b[1m25/25\u001b[0m \u001b[32m━━━━━━━━━━━━━━━━━━━━\u001b[0m\u001b[37m\u001b[0m \u001b[1m0s\u001b[0m 2ms/step - accuracy: 0.7412 - loss: 0.5381 - val_accuracy: 0.8550 - val_loss: 0.3972\n",
      "Epoch 6/50\n",
      "\u001b[1m25/25\u001b[0m \u001b[32m━━━━━━━━━━━━━━━━━━━━\u001b[0m\u001b[37m\u001b[0m \u001b[1m0s\u001b[0m 2ms/step - accuracy: 0.8157 - loss: 0.4642 - val_accuracy: 0.8800 - val_loss: 0.3848\n",
      "Epoch 7/50\n",
      "\u001b[1m25/25\u001b[0m \u001b[32m━━━━━━━━━━━━━━━━━━━━\u001b[0m\u001b[37m\u001b[0m \u001b[1m0s\u001b[0m 2ms/step - accuracy: 0.8043 - loss: 0.4375 - val_accuracy: 0.8800 - val_loss: 0.3774\n",
      "Epoch 8/50\n",
      "\u001b[1m25/25\u001b[0m \u001b[32m━━━━━━━━━━━━━━━━━━━━\u001b[0m\u001b[37m\u001b[0m \u001b[1m0s\u001b[0m 2ms/step - accuracy: 0.8050 - loss: 0.4475 - val_accuracy: 0.8800 - val_loss: 0.3716\n",
      "Epoch 9/50\n",
      "\u001b[1m25/25\u001b[0m \u001b[32m━━━━━━━━━━━━━━━━━━━━\u001b[0m\u001b[37m\u001b[0m \u001b[1m0s\u001b[0m 2ms/step - accuracy: 0.8327 - loss: 0.3716 - val_accuracy: 0.8750 - val_loss: 0.3671\n",
      "Epoch 10/50\n",
      "\u001b[1m25/25\u001b[0m \u001b[32m━━━━━━━━━━━━━━━━━━━━\u001b[0m\u001b[37m\u001b[0m \u001b[1m0s\u001b[0m 2ms/step - accuracy: 0.7950 - loss: 0.4247 - val_accuracy: 0.8700 - val_loss: 0.3677\n",
      "Epoch 11/50\n",
      "\u001b[1m25/25\u001b[0m \u001b[32m━━━━━━━━━━━━━━━━━━━━\u001b[0m\u001b[37m\u001b[0m \u001b[1m0s\u001b[0m 2ms/step - accuracy: 0.8395 - loss: 0.3800 - val_accuracy: 0.8750 - val_loss: 0.3631\n",
      "Epoch 12/50\n",
      "\u001b[1m25/25\u001b[0m \u001b[32m━━━━━━━━━━━━━━━━━━━━\u001b[0m\u001b[37m\u001b[0m \u001b[1m0s\u001b[0m 2ms/step - accuracy: 0.8443 - loss: 0.3633 - val_accuracy: 0.8700 - val_loss: 0.3643\n",
      "Epoch 13/50\n",
      "\u001b[1m25/25\u001b[0m \u001b[32m━━━━━━━━━━━━━━━━━━━━\u001b[0m\u001b[37m\u001b[0m \u001b[1m0s\u001b[0m 2ms/step - accuracy: 0.8543 - loss: 0.3846 - val_accuracy: 0.8700 - val_loss: 0.3653\n",
      "Epoch 14/50\n",
      "\u001b[1m25/25\u001b[0m \u001b[32m━━━━━━━━━━━━━━━━━━━━\u001b[0m\u001b[37m\u001b[0m \u001b[1m0s\u001b[0m 2ms/step - accuracy: 0.8402 - loss: 0.3781 - val_accuracy: 0.8650 - val_loss: 0.3656\n",
      "Epoch 15/50\n",
      "\u001b[1m25/25\u001b[0m \u001b[32m━━━━━━━━━━━━━━━━━━━━\u001b[0m\u001b[37m\u001b[0m \u001b[1m0s\u001b[0m 2ms/step - accuracy: 0.8520 - loss: 0.3783 - val_accuracy: 0.8700 - val_loss: 0.3614\n",
      "Epoch 16/50\n",
      "\u001b[1m25/25\u001b[0m \u001b[32m━━━━━━━━━━━━━━━━━━━━\u001b[0m\u001b[37m\u001b[0m \u001b[1m0s\u001b[0m 2ms/step - accuracy: 0.8743 - loss: 0.3162 - val_accuracy: 0.8700 - val_loss: 0.3614\n",
      "Epoch 17/50\n",
      "\u001b[1m25/25\u001b[0m \u001b[32m━━━━━━━━━━━━━━━━━━━━\u001b[0m\u001b[37m\u001b[0m \u001b[1m0s\u001b[0m 2ms/step - accuracy: 0.8535 - loss: 0.3167 - val_accuracy: 0.8700 - val_loss: 0.3613\n",
      "Epoch 18/50\n",
      "\u001b[1m25/25\u001b[0m \u001b[32m━━━━━━━━━━━━━━━━━━━━\u001b[0m\u001b[37m\u001b[0m \u001b[1m0s\u001b[0m 2ms/step - accuracy: 0.8662 - loss: 0.3335 - val_accuracy: 0.8750 - val_loss: 0.3609\n",
      "Epoch 19/50\n",
      "\u001b[1m25/25\u001b[0m \u001b[32m━━━━━━━━━━━━━━━━━━━━\u001b[0m\u001b[37m\u001b[0m \u001b[1m0s\u001b[0m 2ms/step - accuracy: 0.8659 - loss: 0.3102 - val_accuracy: 0.8750 - val_loss: 0.3605\n",
      "Epoch 20/50\n",
      "\u001b[1m25/25\u001b[0m \u001b[32m━━━━━━━━━━━━━━━━━━━━\u001b[0m\u001b[37m\u001b[0m \u001b[1m0s\u001b[0m 2ms/step - accuracy: 0.8706 - loss: 0.3437 - val_accuracy: 0.8750 - val_loss: 0.3591\n",
      "Epoch 21/50\n",
      "\u001b[1m25/25\u001b[0m \u001b[32m━━━━━━━━━━━━━━━━━━━━\u001b[0m\u001b[37m\u001b[0m \u001b[1m0s\u001b[0m 2ms/step - accuracy: 0.8604 - loss: 0.3272 - val_accuracy: 0.8800 - val_loss: 0.3621\n",
      "Epoch 22/50\n",
      "\u001b[1m25/25\u001b[0m \u001b[32m━━━━━━━━━━━━━━━━━━━━\u001b[0m\u001b[37m\u001b[0m \u001b[1m0s\u001b[0m 2ms/step - accuracy: 0.8776 - loss: 0.3023 - val_accuracy: 0.8700 - val_loss: 0.3696\n",
      "Epoch 23/50\n",
      "\u001b[1m25/25\u001b[0m \u001b[32m━━━━━━━━━━━━━━━━━━━━\u001b[0m\u001b[37m\u001b[0m \u001b[1m0s\u001b[0m 2ms/step - accuracy: 0.8708 - loss: 0.3434 - val_accuracy: 0.8750 - val_loss: 0.3635\n",
      "Epoch 24/50\n",
      "\u001b[1m25/25\u001b[0m \u001b[32m━━━━━━━━━━━━━━━━━━━━\u001b[0m\u001b[37m\u001b[0m \u001b[1m0s\u001b[0m 2ms/step - accuracy: 0.8634 - loss: 0.3372 - val_accuracy: 0.8650 - val_loss: 0.3635\n",
      "Epoch 25/50\n",
      "\u001b[1m25/25\u001b[0m \u001b[32m━━━━━━━━━━━━━━━━━━━━\u001b[0m\u001b[37m\u001b[0m \u001b[1m0s\u001b[0m 2ms/step - accuracy: 0.8701 - loss: 0.3178 - val_accuracy: 0.8650 - val_loss: 0.3636\n",
      "Epoch 26/50\n",
      "\u001b[1m25/25\u001b[0m \u001b[32m━━━━━━━━━━━━━━━━━━━━\u001b[0m\u001b[37m\u001b[0m \u001b[1m0s\u001b[0m 2ms/step - accuracy: 0.8968 - loss: 0.2546 - val_accuracy: 0.8650 - val_loss: 0.3683\n",
      "Epoch 27/50\n",
      "\u001b[1m25/25\u001b[0m \u001b[32m━━━━━━━━━━━━━━━━━━━━\u001b[0m\u001b[37m\u001b[0m \u001b[1m0s\u001b[0m 2ms/step - accuracy: 0.8899 - loss: 0.2999 - val_accuracy: 0.8700 - val_loss: 0.3633\n",
      "Epoch 28/50\n",
      "\u001b[1m25/25\u001b[0m \u001b[32m━━━━━━━━━━━━━━━━━━━━\u001b[0m\u001b[37m\u001b[0m \u001b[1m0s\u001b[0m 2ms/step - accuracy: 0.8907 - loss: 0.3166 - val_accuracy: 0.8650 - val_loss: 0.3620\n",
      "Epoch 29/50\n",
      "\u001b[1m25/25\u001b[0m \u001b[32m━━━━━━━━━━━━━━━━━━━━\u001b[0m\u001b[37m\u001b[0m \u001b[1m0s\u001b[0m 2ms/step - accuracy: 0.8614 - loss: 0.3262 - val_accuracy: 0.8700 - val_loss: 0.3610\n",
      "Epoch 30/50\n",
      "\u001b[1m25/25\u001b[0m \u001b[32m━━━━━━━━━━━━━━━━━━━━\u001b[0m\u001b[37m\u001b[0m \u001b[1m0s\u001b[0m 2ms/step - accuracy: 0.8995 - loss: 0.2621 - val_accuracy: 0.8600 - val_loss: 0.3616\n",
      "Epoch 31/50\n",
      "\u001b[1m25/25\u001b[0m \u001b[32m━━━━━━━━━━━━━━━━━━━━\u001b[0m\u001b[37m\u001b[0m \u001b[1m0s\u001b[0m 2ms/step - accuracy: 0.8707 - loss: 0.2998 - val_accuracy: 0.8700 - val_loss: 0.3630\n",
      "Epoch 32/50\n",
      "\u001b[1m25/25\u001b[0m \u001b[32m━━━━━━━━━━━━━━━━━━━━\u001b[0m\u001b[37m\u001b[0m \u001b[1m0s\u001b[0m 2ms/step - accuracy: 0.8820 - loss: 0.2826 - val_accuracy: 0.8650 - val_loss: 0.3614\n",
      "Epoch 33/50\n",
      "\u001b[1m25/25\u001b[0m \u001b[32m━━━━━━━━━━━━━━━━━━━━\u001b[0m\u001b[37m\u001b[0m \u001b[1m0s\u001b[0m 2ms/step - accuracy: 0.9033 - loss: 0.2599 - val_accuracy: 0.8650 - val_loss: 0.3640\n",
      "Epoch 34/50\n",
      "\u001b[1m25/25\u001b[0m \u001b[32m━━━━━━━━━━━━━━━━━━━━\u001b[0m\u001b[37m\u001b[0m \u001b[1m0s\u001b[0m 2ms/step - accuracy: 0.8763 - loss: 0.3069 - val_accuracy: 0.8650 - val_loss: 0.3621\n",
      "Epoch 35/50\n",
      "\u001b[1m25/25\u001b[0m \u001b[32m━━━━━━━━━━━━━━━━━━━━\u001b[0m\u001b[37m\u001b[0m \u001b[1m0s\u001b[0m 2ms/step - accuracy: 0.9025 - loss: 0.2674 - val_accuracy: 0.8700 - val_loss: 0.3595\n",
      "Epoch 36/50\n",
      "\u001b[1m25/25\u001b[0m \u001b[32m━━━━━━━━━━━━━━━━━━━━\u001b[0m\u001b[37m\u001b[0m \u001b[1m0s\u001b[0m 2ms/step - accuracy: 0.8881 - loss: 0.3013 - val_accuracy: 0.8700 - val_loss: 0.3641\n",
      "Epoch 37/50\n",
      "\u001b[1m25/25\u001b[0m \u001b[32m━━━━━━━━━━━━━━━━━━━━\u001b[0m\u001b[37m\u001b[0m \u001b[1m0s\u001b[0m 2ms/step - accuracy: 0.8912 - loss: 0.2426 - val_accuracy: 0.8700 - val_loss: 0.3683\n",
      "Epoch 38/50\n",
      "\u001b[1m25/25\u001b[0m \u001b[32m━━━━━━━━━━━━━━━━━━━━\u001b[0m\u001b[37m\u001b[0m \u001b[1m0s\u001b[0m 2ms/step - accuracy: 0.8799 - loss: 0.3029 - val_accuracy: 0.8700 - val_loss: 0.3638\n",
      "Epoch 39/50\n",
      "\u001b[1m25/25\u001b[0m \u001b[32m━━━━━━━━━━━━━━━━━━━━\u001b[0m\u001b[37m\u001b[0m \u001b[1m0s\u001b[0m 2ms/step - accuracy: 0.9063 - loss: 0.2850 - val_accuracy: 0.8650 - val_loss: 0.3670\n",
      "Epoch 40/50\n",
      "\u001b[1m25/25\u001b[0m \u001b[32m━━━━━━━━━━━━━━━━━━━━\u001b[0m\u001b[37m\u001b[0m \u001b[1m0s\u001b[0m 2ms/step - accuracy: 0.8783 - loss: 0.2934 - val_accuracy: 0.8700 - val_loss: 0.3691\n",
      "Epoch 41/50\n",
      "\u001b[1m25/25\u001b[0m \u001b[32m━━━━━━━━━━━━━━━━━━━━\u001b[0m\u001b[37m\u001b[0m \u001b[1m0s\u001b[0m 2ms/step - accuracy: 0.8966 - loss: 0.2476 - val_accuracy: 0.8700 - val_loss: 0.3699\n",
      "Epoch 42/50\n",
      "\u001b[1m25/25\u001b[0m \u001b[32m━━━━━━━━━━━━━━━━━━━━\u001b[0m\u001b[37m\u001b[0m \u001b[1m0s\u001b[0m 2ms/step - accuracy: 0.8998 - loss: 0.2372 - val_accuracy: 0.8700 - val_loss: 0.3709\n",
      "Epoch 43/50\n",
      "\u001b[1m25/25\u001b[0m \u001b[32m━━━━━━━━━━━━━━━━━━━━\u001b[0m\u001b[37m\u001b[0m \u001b[1m0s\u001b[0m 2ms/step - accuracy: 0.9088 - loss: 0.2725 - val_accuracy: 0.8650 - val_loss: 0.3745\n",
      "Epoch 44/50\n",
      "\u001b[1m25/25\u001b[0m \u001b[32m━━━━━━━━━━━━━━━━━━━━\u001b[0m\u001b[37m\u001b[0m \u001b[1m0s\u001b[0m 2ms/step - accuracy: 0.8868 - loss: 0.2470 - val_accuracy: 0.8700 - val_loss: 0.3744\n",
      "Epoch 45/50\n",
      "\u001b[1m25/25\u001b[0m \u001b[32m━━━━━━━━━━━━━━━━━━━━\u001b[0m\u001b[37m\u001b[0m \u001b[1m0s\u001b[0m 2ms/step - accuracy: 0.8866 - loss: 0.2559 - val_accuracy: 0.8700 - val_loss: 0.3790\n",
      "Epoch 46/50\n",
      "\u001b[1m25/25\u001b[0m \u001b[32m━━━━━━━━━━━━━━━━━━━━\u001b[0m\u001b[37m\u001b[0m \u001b[1m0s\u001b[0m 2ms/step - accuracy: 0.9069 - loss: 0.2696 - val_accuracy: 0.8700 - val_loss: 0.3761\n",
      "Epoch 47/50\n",
      "\u001b[1m25/25\u001b[0m \u001b[32m━━━━━━━━━━━━━━━━━━━━\u001b[0m\u001b[37m\u001b[0m \u001b[1m0s\u001b[0m 2ms/step - accuracy: 0.8907 - loss: 0.2623 - val_accuracy: 0.8700 - val_loss: 0.3750\n",
      "Epoch 48/50\n",
      "\u001b[1m25/25\u001b[0m \u001b[32m━━━━━━━━━━━━━━━━━━━━\u001b[0m\u001b[37m\u001b[0m \u001b[1m0s\u001b[0m 2ms/step - accuracy: 0.8814 - loss: 0.2737 - val_accuracy: 0.8700 - val_loss: 0.3740\n",
      "Epoch 49/50\n",
      "\u001b[1m25/25\u001b[0m \u001b[32m━━━━━━━━━━━━━━━━━━━━\u001b[0m\u001b[37m\u001b[0m \u001b[1m0s\u001b[0m 2ms/step - accuracy: 0.9044 - loss: 0.2545 - val_accuracy: 0.8750 - val_loss: 0.3758\n",
      "Epoch 50/50\n",
      "\u001b[1m25/25\u001b[0m \u001b[32m━━━━━━━━━━━━━━━━━━━━\u001b[0m\u001b[37m\u001b[0m \u001b[1m0s\u001b[0m 2ms/step - accuracy: 0.8978 - loss: 0.2400 - val_accuracy: 0.8750 - val_loss: 0.3731\n"
     ]
    },
    {
     "data": {
      "image/png": "[encoded data removed]",
      "text/plain": [
       "<Figure size 1000x500 with 1 Axes>"
      ]
     },
     "metadata": {},
     "output_type": "display_data"
    },
    {
     "name": "stdout",
     "output_type": "stream",
     "text": [
      "Accuracy of the model on the test set: 87.50%\n"
     ]
    }
   ],
   "source": [
    "from keras.models import Sequential\n",
    "from keras.layers import Dense, Dropout\n",
    "from keras.optimizers import Adam\n",
    "\n",
    "# Model opbouwen met Keras Sequential API\n",
    "model = Sequential()\n",
    "model.add(Dense(hidden_size, activation='relu', input_shape=(input_size,)))\n",
    "model.add(Dropout(dropout_rate))\n",
    "model.add(Dense(hidden_size, activation='relu'))\n",
    "model.add(Dropout(dropout_rate))\n",
    "model.add(Dense(output_size, activation='softmax'))\n",
    "\n",
    "# Model compileren\n",
    "optimizer = Adam(learning_rate=learning_rate)\n",
    "model.compile(optimizer=optimizer,\n",
    "              loss='sparse_categorical_crossentropy',\n",
    "              metrics=['accuracy'])\n",
    "\n",
    "# Model samenvatting tonen\n",
    "model.summary()\n",
    "\n",
    "# Model trainen\n",
    "history = model.fit(X_train, y_train,\n",
    "                    epochs=epochs,\n",
    "                    batch_size=batch_size,\n",
    "                    validation_data=(X_test, y_test),\n",
    "                    verbose=1)\n",
    "\n",
    "# Resultaten plotten\n",
    "plt.figure(figsize=(10,5))\n",
    "plt.plot(history.history['loss'], label='Train Loss')\n",
    "plt.plot(history.history['val_loss'], label='Test Loss')\n",
    "plt.xlabel('Epochs')\n",
    "plt.ylabel('Loss')\n",
    "plt.legend()\n",
    "plt.show()\n",
    "\n",
    "# Evaluatie op de test set\n",
    "loss, accuracy = model.evaluate(X_test, y_test, verbose=0)\n",
    "print(f'Accuracy of the model on the test set: {accuracy*100:.2f}%')"
   ]
  },
  {
   "cell_type": "markdown",
   "id": "6b55aa74-2eaa-47db-807c-e8c654633d1e",
   "metadata": {},
   "source": [
    "## Oefening 1: Binaire classificatie\n",
    "\n",
    "Train een feed-forward neurale netwerk voor binaire classificatie met behulp van de make_classification functie van sklearn om een dataset te genereren.\n",
    "\n",
    "Gebruik een eenvoudig netwerk met één verborgen laag van 64 neuronen en een sigmoid activatiefunctie.\n",
    "Schrijf je code aan de hand van Keras\n",
    "\n",
    "**Uitbreiding (ook voor alle andere oefeningen)** Oefen ook de andere code-schrijfwijzen"
   ]
  },
  {
   "cell_type": "code",
   "execution_count": null,
   "id": "2ae1adfe-ab78-447b-bbb5-d44f91b55d89",
   "metadata": {},
   "outputs": [],
   "source": [
    "# Dataset genereren\n",
    "X, y = make_classification(n_samples=1000, n_features=20, n_classes=2, random_state=42)\n",
    "\n",
    "# Data splitsen in train en test sets\n",
    "X_train, X_test, y_train, y_test = train_test_split(X, y, test_size=0.2, random_state=42)\n",
    "\n",
    "# Model opbouwen\n",
    "model = Sequential([\n",
    "    Dense(64, activation='relu', input_shape=(20,)),\n",
    "    Dropout(0.2),\n",
    "    Dense(1, activation='sigmoid')\n",
    "])\n",
    "\n",
    "# Model compileren\n",
    "model.compile(optimizer='adam',\n",
    "              loss='binary_crossentropy',\n",
    "              metrics=['accuracy'])\n",
    "\n",
    "# Model trainen\n",
    "history = model.fit(X_train, y_train, epochs=20, batch_size=32, validation_data=(X_test, y_test))\n",
    "\n",
    "# Resultaten plotten\n",
    "plt.figure(figsize=(10,5))\n",
    "plt.plot(history.history['loss'], label='Train Loss')\n",
    "plt.plot(history.history['val_loss'], label='Test Loss')\n",
    "plt.xlabel('Epochs')\n",
    "plt.ylabel('Loss')\n",
    "plt.legend()\n",
    "plt.show()\n",
    "\n",
    "# Evaluatie op de test set\n",
    "loss, accuracy = model.evaluate(X_test, y_test, verbose=0)\n",
    "print(f'Accuracy of the model on the test set: {accuracy*100:.2f}%')\n"
   ]
  },
  {
   "cell_type": "markdown",
   "id": "3b3cad50-826b-4657-a986-d88e147085df",
   "metadata": {},
   "source": [
    "## Oefening 2: Multiklasse classificatie met Iris Dataset\n",
    "\n",
    "Train een feed-forward neurale netwerk voor multiklasse classificatie met behulp van de load_iris functie van sklearn om de Iris dataset te laden.\n",
    "Gebruik een netwerk met drie verborgen laag van 32 neuronen en een softmax activatiefunctie.\n",
    "\n",
    "Schrijf je code aan de hand van nn.Sequential (tweede schrijfwijze)"
   ]
  },
  {
   "cell_type": "code",
   "execution_count": null,
   "id": "a979d880-76b2-4330-b420-abff05a9b55b",
   "metadata": {},
   "outputs": [],
   "source": [
    "from sklearn.datasets import load_iris\n",
    "\n",
    "# Dataset laden\n",
    "iris = load_iris()\n",
    "X, y = iris.data, iris.target\n",
    "\n",
    "# Data splitsen in train en test sets\n",
    "X_train, X_test, y_train, y_test = train_test_split(X, y, test_size=0.2, random_state=42)\n",
    "\n",
    "# Convert naar PyTorch tensors\n",
    "X_train_tensor = torch.tensor(X_train, dtype=torch.float32)\n",
    "y_train_tensor = torch.tensor(y_train, dtype=torch.long)\n",
    "X_test_tensor = torch.tensor(X_test, dtype=torch.float32)\n",
    "y_test_tensor = torch.tensor(y_test, dtype=torch.long)\n",
    "\n",
    "# Dataset en DataLoader maken\n",
    "train_dataset = TensorDataset(X_train_tensor, y_train_tensor)\n",
    "test_dataset = TensorDataset(X_test_tensor, y_test_tensor)\n",
    "train_loader = DataLoader(train_dataset, batch_size=32, shuffle=True)\n",
    "test_loader = DataLoader(test_dataset, batch_size=32, shuffle=False)\n",
    "\n",
    "# Model definieren met nn.Sequential\n",
    "model = nn.Sequential(\n",
    "    nn.Linear(4, 32),\n",
    "    nn.ReLU(),\n",
    "    nn.Linear(32, 32),\n",
    "    nn.ReLU(),\n",
    "    nn.Linear(32, 32),\n",
    "    nn.ReLU(),\n",
    "    nn.Linear(32, 3)  # 3 output klassen voor Iris dataset\n",
    ")\n",
    "\n",
    "criterion = nn.CrossEntropyLoss()\n",
    "optimizer = optim.Adam(model.parameters(), lr=learning_rate)"
   ]
  },
  {
   "cell_type": "markdown",
   "id": "1d01b6c2-015e-4746-9ce0-0fc75bb05adb",
   "metadata": {},
   "source": [
    "## Oefening 3: Regressie met Diabetes Dataset\n",
    "\n",
    "Train een feed-forward neurale netwerk voor regressie met behulp van de load_diabetes functie van sklearn om de Diabetes dataset te laden.\n",
    "Gebruik een netwerk met één verborgen laag van 64 neuronen en een gepaste activatiefunctie\n",
    "\n",
    "Gebruik voor deze oefeningen de klassieke pytorch schrijfwijze"
   ]
  },
  {
   "cell_type": "code",
   "execution_count": null,
   "id": "f3eff6a9-f1d3-4787-9574-228c4caa7aad",
   "metadata": {},
   "outputs": [],
   "source": [
    "from sklearn.datasets import load_diabetes\n",
    "\n",
    "# Dataset laden\n",
    "diabetes = load_diabetes()\n",
    "X, y = diabetes.data, diabetes.target\n",
    "\n",
    "# Data splitsen in train en test sets\n",
    "X_train, X_test, y_train, y_test = train_test_split(X, y, test_size=0.2, random_state=42)\n",
    "\n",
    "# Converteren naar PyTorch tensors\n",
    "X_train_tensor = torch.tensor(X_train, dtype=torch.float32)\n",
    "y_train_tensor = torch.tensor(y_train, dtype=torch.float32).unsqueeze(1)  # Unsqueezing om dimensie te matchen\n",
    "X_test_tensor = torch.tensor(X_test, dtype=torch.float32)\n",
    "y_test_tensor = torch.tensor(y_test, dtype=torch.float32).unsqueeze(1)\n",
    "\n",
    "# Dataset en DataLoader maken\n",
    "train_dataset = TensorDataset(X_train_tensor, y_train_tensor)\n",
    "train_loader = DataLoader(train_dataset, batch_size=32, shuffle=True)\n",
    "\n",
    "# Definitie van het neurale netwerk met nn.Module\n",
    "class NeuralNet(nn.Module):\n",
    "    def __init__(self):\n",
    "        super(NeuralNet, self).__init__()\n",
    "        self.fc1 = nn.Linear(10, 64)   # 10 input features naar 64 hidden units\n",
    "        self.fc2 = nn.Linear(64, 1)    # 64 hidden units naar 1 output (lineaire activatie)\n",
    "\n",
    "    def forward(self, x):\n",
    "        x = torch.relu(self.fc1(x))   # ReLU activatie in de hidden layer\n",
    "        x = self.fc2(x)               # Lineaire activatie in de output layer\n",
    "        return x\n"
   ]
  },
  {
   "cell_type": "markdown",
   "id": "b077ba8b-1609-4242-8928-6feda44c65b3",
   "metadata": {},
   "source": [
    "## Oefening 4: Binaire classificatie met Moons Dataset\n",
    "\n",
    "Train een feed-forward neurale netwerk voor binaire classificatie met behulp van de make_moons functie van sklearn om een maanvormige dataset te genereren.\n",
    "Pas in deze oefening l2-regularisatie toe ipv dropout.\n",
    "\n",
    "Gebruik de keras notatie met een pytorch backend (code hiervoor al gegeven hieronder)"
   ]
  },
  {
   "cell_type": "code",
   "execution_count": null,
   "id": "9f45a38e-3cb9-41de-be71-1a9cba1a807e",
   "metadata": {},
   "outputs": [],
   "source": [
    "import os\n",
    "\n",
    "# This guide can only be run with the torch backend.\n",
    "os.environ[\"KERAS_BACKEND\"] = \"torch\"\n",
    "\n",
    "from sklearn.datasets import make_moons\n",
    "from keras.regularizers import l2\n",
    "\n",
    "# Dataset genereren\n",
    "X, y = make_moons(n_samples=1000, noise=0.2, random_state=42)\n",
    "\n",
    "# Data splitsen in train en test sets\n",
    "X_train, X_test, y_train, y_test = train_test_split(X, y, test_size=0.2, random_state=42)\n",
    "\n",
    "# Model opbouwen\n",
    "model = Sequential([\n",
    "    Dense(32, activation='relu', kernel_regularizer=l2(0.01), input_shape=(2,)),\n",
    "    Dense(1, activation='sigmoid')\n",
    "])\n",
    "\n",
    "# Model compileren\n",
    "model.compile(optimizer=Adam(learning_rate=0.001),\n",
    "              loss='binary_crossentropy',\n",
    "              metrics=['accuracy'])"
   ]
  },
  {
   "cell_type": "markdown",
   "id": "cf9ca70b-690d-40c6-930b-9068af2a65ef",
   "metadata": {},
   "source": [
    "## Oefening 5: Multilabel classificatie met Circles Dataset\n",
    "\n",
    "Train een feed-forward neurale netwerk voor multilabel classificatie met behulp van de make_circles functie van sklearn om een dataset met cirkelvormige klassen te genereren.\n",
    "\n",
    "Maak gebruik van nn.Module inheritance om dit model te schrijven en zorg voor regularisation door gebruik te maken van de L2-norm."
   ]
  },
  {
   "cell_type": "code",
   "execution_count": null,
   "id": "e684db8e-3989-45da-b3f4-524f3b6ef19e",
   "metadata": {},
   "outputs": [],
   "source": [
    "from sklearn.datasets import make_circles\n",
    "\n",
    "# Dataset genereren\n",
    "X, y = make_circles(n_samples=1000, noise=0.1, random_state=42)\n",
    "\n",
    "# Omzetten naar PyTorch tensors\n",
    "X = torch.tensor(X, dtype=torch.float32)\n",
    "y = torch.tensor(y, dtype=torch.float32)\n",
    "\n",
    "# Data splitsen in train en test sets\n",
    "X_train, X_test, y_train, y_test = train_test_split(X, y, test_size=0.2, random_state=42)\n",
    "\n",
    "# Definitie van het neurale netwerk met nn.Module\n",
    "class Net(nn.Module):\n",
    "    def __init__(self):\n",
    "        super(Net, self).__init__()\n",
    "        self.fc1 = nn.Linear(2, 64)  # Input layer naar hidden layer\n",
    "        self.fc2 = nn.Linear(64, 1)  # Hidden layer naar output layer\n",
    "        self.relu = nn.ReLU()        # ReLU activatie voor hidden layer\n",
    "\n",
    "    def forward(self, x):\n",
    "        x = self.fc1(x)\n",
    "        x = self.relu(x)\n",
    "        x = self.fc2(x)\n",
    "        return x\n",
    "\n",
    "# Model instantiëren\n",
    "model = Net()\n",
    "\n",
    "# Loss functie (Binary Cross Entropy) en optimizer (Adam)\n",
    "criterion = nn.BCEWithLogitsLoss()"
   ]
  },
  {
   "cell_type": "code",
   "execution_count": null,
   "id": "bccf6aa9-2406-4938-bd02-c9b40901b2c3",
   "metadata": {},
   "outputs": [],
   "source": []
  }
 ],
 "metadata": {
  "kernelspec": {
   "display_name": "Python 3 (ipykernel)",
   "language": "python",
   "name": "python3"
  },
  "language_info": {
   "codemirror_mode": {
    "name": "ipython",
    "version": 3
   },
   "file_extension": ".py",
   "mimetype": "text/x-python",
   "name": "python",
   "nbconvert_exporter": "python",
   "pygments_lexer": "ipython3",
   "version": "3.10.13"
  }
 },
 "nbformat": 4,
 "nbformat_minor": 5
}
